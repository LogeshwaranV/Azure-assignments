{
 "cells": [
  {
   "cell_type": "code",
   "execution_count": 0,
   "metadata": {
    "application/vnd.databricks.v1+cell": {
     "cellMetadata": {
      "byteLimit": 2048000,
      "rowLimit": 10000
     },
     "inputWidgets": {},
     "nuid": "3c79b429-ee87-4c37-936d-9c4c19de18f4",
     "showTitle": false,
     "title": ""
    }
   },
   "outputs": [],
   "source": [
    "housing=spark.read.option(\"header\",True).option(\"inferschema\",True).csv(\"/mnt/housing/data/cleaned/housing_cleaned.csv\")"
   ]
  },
  {
   "cell_type": "code",
   "execution_count": 0,
   "metadata": {
    "application/vnd.databricks.v1+cell": {
     "cellMetadata": {
      "byteLimit": 2048000,
      "rowLimit": 10000
     },
     "inputWidgets": {},
     "nuid": "eeee48bd-41ae-4cf2-807b-9a6cf34dd6d8",
     "showTitle": false,
     "title": ""
    }
   },
   "outputs": [
    {
     "output_type": "stream",
     "name": "stdout",
     "output_type": "stream",
     "text": [
      "root\n |-- longitude: double (nullable = true)\n |-- latitude: double (nullable = true)\n |-- housing_median_age: double (nullable = true)\n |-- total_rooms: double (nullable = true)\n |-- total_bedrooms: double (nullable = true)\n |-- population: double (nullable = true)\n |-- households: double (nullable = true)\n |-- median_income: double (nullable = true)\n |-- median_house_value: double (nullable = true)\n |-- ocean_proximity: string (nullable = true)\n |-- rooms_per_household: double (nullable = true)\n |-- bedrooms_per_household: double (nullable = true)\n |-- population_per_household: double (nullable = true)\n\n"
     ]
    }
   ],
   "source": [
    "housing.printSchema()"
   ]
  },
  {
   "cell_type": "code",
   "execution_count": 0,
   "metadata": {
    "application/vnd.databricks.v1+cell": {
     "cellMetadata": {
      "byteLimit": 2048000,
      "rowLimit": 10000
     },
     "inputWidgets": {},
     "nuid": "9b51f9d1-c522-4c71-9966-676b4945f9b7",
     "showTitle": false,
     "title": ""
    }
   },
   "outputs": [],
   "source": [
    "from pyspark.ml.feature import StringIndexer\n",
    "indexer = StringIndexer()\\\n",
    " .setInputCol(\"ocean_proximity\")\\\n",
    " .setOutputCol(\"ocean_proximity_index\")"
   ]
  },
  {
   "cell_type": "code",
   "execution_count": 0,
   "metadata": {
    "application/vnd.databricks.v1+cell": {
     "cellMetadata": {
      "byteLimit": 2048000,
      "rowLimit": 10000
     },
     "inputWidgets": {},
     "nuid": "9f3c0a9d-5461-41a1-8351-f58d95820720",
     "showTitle": false,
     "title": ""
    }
   },
   "outputs": [],
   "source": [
    "from pyspark.ml.feature import OneHotEncoder\n",
    "encoder = OneHotEncoder()\\\n",
    " .setInputCol(\"ocean_proximity_index\")\\\n",
    " .setOutputCol(\"ocean_proximity_encoded\")"
   ]
  },
  {
   "cell_type": "code",
   "execution_count": 0,
   "metadata": {
    "application/vnd.databricks.v1+cell": {
     "cellMetadata": {
      "byteLimit": 2048000,
      "rowLimit": 10000
     },
     "inputWidgets": {},
     "nuid": "1c83a13e-8e77-41b4-9933-0da0138fa95c",
     "showTitle": false,
     "title": ""
    }
   },
   "outputs": [],
   "source": [
    "from pyspark.ml.feature import VectorAssembler\n",
    "vectorAssembler = VectorAssembler()\\\n",
    " .setInputCols([\"longitude\", \"latitude\", \"housing_median_age\", \"total_rooms\", \"total_bedrooms\", \"population\",\"households\", \"median_income\",\"rooms_per_household\",\"bedrooms_per_household\",\"population_per_household\",\"ocean_proximity_encoded\" ])\\\n",
    " .setOutputCol(\"features\")"
   ]
  },
  {
   "cell_type": "code",
   "execution_count": 0,
   "metadata": {
    "application/vnd.databricks.v1+cell": {
     "cellMetadata": {
      "byteLimit": 2048000,
      "rowLimit": 10000
     },
     "inputWidgets": {},
     "nuid": "6aec6b7c-ae97-4fd6-ae04-8e9d7ee47250",
     "showTitle": false,
     "title": ""
    }
   },
   "outputs": [],
   "source": [
    "from pyspark.ml.feature import StandardScaler\n",
    "scaler = StandardScaler()\\\n",
    "    .setInputCol('features')\\\n",
    "    .setOutputCol('scaled_features')"
   ]
  },
  {
   "cell_type": "code",
   "execution_count": 0,
   "metadata": {
    "application/vnd.databricks.v1+cell": {
     "cellMetadata": {
      "byteLimit": 2048000,
      "rowLimit": 10000
     },
     "inputWidgets": {},
     "nuid": "3d8f3536-2ce2-4ec3-872c-478202a1435f",
     "showTitle": false,
     "title": ""
    }
   },
   "outputs": [],
   "source": [
    "from pyspark.ml import Pipeline\n",
    "transformationPipeline = Pipeline()\\\n",
    " .setStages([indexer, encoder, vectorAssembler,scaler])"
   ]
  },
  {
   "cell_type": "code",
   "execution_count": 0,
   "metadata": {
    "application/vnd.databricks.v1+cell": {
     "cellMetadata": {
      "byteLimit": 2048000,
      "rowLimit": 10000
     },
     "inputWidgets": {},
     "nuid": "b3a7ee28-5d56-4288-9394-7ccf182a8d9e",
     "showTitle": false,
     "title": ""
    }
   },
   "outputs": [],
   "source": [
    "fittedPipeline = transformationPipeline.fit(housing)"
   ]
  },
  {
   "cell_type": "code",
   "execution_count": 0,
   "metadata": {
    "application/vnd.databricks.v1+cell": {
     "cellMetadata": {
      "byteLimit": 2048000,
      "rowLimit": 10000
     },
     "inputWidgets": {},
     "nuid": "d373c939-3b2c-497d-a574-13427c75c7ec",
     "showTitle": false,
     "title": ""
    }
   },
   "outputs": [],
   "source": [
    "transformedHousing = fittedPipeline.transform(housing)"
   ]
  },
  {
   "cell_type": "code",
   "execution_count": 0,
   "metadata": {
    "application/vnd.databricks.v1+cell": {
     "cellMetadata": {
      "byteLimit": 2048000,
      "rowLimit": 10000
     },
     "inputWidgets": {},
     "nuid": "f256275d-9e31-494c-9d05-63040576f3a2",
     "showTitle": false,
     "title": ""
    }
   },
   "outputs": [
    {
     "output_type": "stream",
     "name": "stdout",
     "output_type": "stream",
     "text": [
      "+---------+--------+------------------+-----------+--------------+----------+----------+-------------+------------------+---------------+-------------------+----------------------+------------------------+---------------------+-----------------------+--------------------+--------------------+\n|longitude|latitude|housing_median_age|total_rooms|total_bedrooms|population|households|median_income|median_house_value|ocean_proximity|rooms_per_household|bedrooms_per_household|population_per_household|ocean_proximity_index|ocean_proximity_encoded|            features|     scaled_features|\n+---------+--------+------------------+-----------+--------------+----------+----------+-------------+------------------+---------------+-------------------+----------------------+------------------------+---------------------+-----------------------+--------------------+--------------------+\n|  -122.23|   37.88|              41.0|      880.0|         129.0|     322.0|     126.0|       8.3252|          452600.0|       NEAR BAY|  6.984126984126984|    1.0238095238095237|      2.5555555555555554|                  3.0|          (4,[3],[1.0])|[-122.23,37.88,41...|[-61.005863841998...|\n|  -122.22|   37.86|              21.0|     7099.0|        1106.0|    2401.0|    1138.0|       8.3014|          358500.0|       NEAR BAY|  6.238137082601054|    0.9718804920913884|       2.109841827768014|                  3.0|          (4,[3],[1.0])|[-122.22,37.86,21...|[-61.000872770752...|\n|  -122.24|   37.85|              52.0|     1467.0|         190.0|     496.0|     177.0|       7.2574|          352100.0|       NEAR BAY|  8.288135593220339|     1.073446327683616|      2.8022598870056497|                  3.0|          (4,[3],[1.0])|[-122.24,37.85,52...|[-61.010854913244...|\n|  -122.25|   37.85|              52.0|     1274.0|         235.0|     558.0|     219.0|       5.6431|          341300.0|       NEAR BAY| 5.8173515981735155|    1.0730593607305936|       2.547945205479452|                  3.0|          (4,[3],[1.0])|[-122.25,37.85,52...|[-61.015845984490...|\n|  -122.25|   37.85|              52.0|     1627.0|         280.0|     565.0|     259.0|       3.8462|          342200.0|       NEAR BAY|  6.281853281853282|    1.0810810810810811|      2.1814671814671813|                  3.0|          (4,[3],[1.0])|[-122.25,37.85,52...|[-61.015845984490...|\n|  -122.25|   37.85|              52.0|      919.0|         213.0|     413.0|     193.0|       4.0368|          269700.0|       NEAR BAY|  4.761658031088083|    1.1036269430051813|       2.139896373056995|                  3.0|          (4,[3],[1.0])|[-122.25,37.85,52...|[-61.015845984490...|\n|  -122.25|   37.84|              52.0|     2535.0|         489.0|    1094.0|     514.0|       3.6591|          299200.0|       NEAR BAY| 4.9319066147859925|    0.9513618677042801|      2.1284046692607004|                  3.0|          (4,[3],[1.0])|[-122.25,37.84,52...|[-61.015845984490...|\n|  -122.25|   37.84|              52.0|     3104.0|         687.0|    1157.0|     647.0|         3.12|          241400.0|       NEAR BAY|  4.797527047913447|     1.061823802163833|      1.7882534775888717|                  3.0|          (4,[3],[1.0])|[-122.25,37.84,52...|[-61.015845984490...|\n|  -122.26|   37.84|              42.0|     2555.0|         665.0|    1206.0|     595.0|       2.0804|          226700.0|       NEAR BAY|  4.294117647058823|    1.1176470588235294|       2.026890756302521|                  3.0|          (4,[3],[1.0])|[-122.26,37.84,42...|[-61.020837055737...|\n|  -122.25|   37.84|              52.0|     3549.0|         707.0|    1551.0|     714.0|       3.6912|          261100.0|       NEAR BAY|  4.970588235294118|    0.9901960784313726|       2.172268907563025|                  3.0|          (4,[3],[1.0])|[-122.25,37.84,52...|[-61.015845984490...|\n|  -122.26|   37.85|              52.0|     2202.0|         434.0|     910.0|     402.0|       3.2031|          281500.0|       NEAR BAY|  5.477611940298507|    1.0796019900497513|       2.263681592039801|                  3.0|          (4,[3],[1.0])|[-122.26,37.85,52...|[-61.020837055737...|\n|  -122.26|   37.85|              52.0|     3503.0|         752.0|    1504.0|     734.0|       3.2705|          241800.0|       NEAR BAY|  4.772479564032698|    1.0245231607629428|      2.0490463215258856|                  3.0|          (4,[3],[1.0])|[-122.26,37.85,52...|[-61.020837055737...|\n|  -122.26|   37.85|              52.0|     2491.0|         474.0|    1098.0|     468.0|        3.075|          213500.0|       NEAR BAY|  5.322649572649572|    1.0128205128205128|      2.3461538461538463|                  3.0|          (4,[3],[1.0])|[-122.26,37.85,52...|[-61.020837055737...|\n|  -122.26|   37.84|              52.0|      696.0|         191.0|     345.0|     174.0|       2.6736|          191300.0|       NEAR BAY|                4.0|    1.0977011494252873|      1.9827586206896552|                  3.0|          (4,[3],[1.0])|[-122.26,37.84,52...|[-61.020837055737...|\n|  -122.26|   37.85|              52.0|     2643.0|         626.0|    1212.0|     620.0|       1.9167|          159200.0|       NEAR BAY|  4.262903225806451|    1.0096774193548388|      1.9548387096774194|                  3.0|          (4,[3],[1.0])|[-122.26,37.85,52...|[-61.020837055737...|\n|  -122.26|   37.85|              50.0|     1120.0|         283.0|     697.0|     264.0|        2.125|          140000.0|       NEAR BAY|  4.242424242424242|     1.071969696969697|       2.640151515151515|                  3.0|          (4,[3],[1.0])|[-122.26,37.85,50...|[-61.020837055737...|\n|  -122.27|   37.85|              52.0|     1966.0|         347.0|     793.0|     331.0|        2.775|          152500.0|       NEAR BAY| 5.9395770392749245|    1.0483383685800605|       2.395770392749245|                  3.0|          (4,[3],[1.0])|[-122.27,37.85,52...|[-61.025828126983...|\n|  -122.27|   37.85|              52.0|     1228.0|         293.0|     648.0|     303.0|       2.1202|          155500.0|       NEAR BAY|  4.052805280528053|     0.966996699669967|      2.1386138613861387|                  3.0|          (4,[3],[1.0])|[-122.27,37.85,52...|[-61.025828126983...|\n|  -122.26|   37.84|              50.0|     2239.0|         455.0|     990.0|     419.0|       1.9911|          158700.0|       NEAR BAY|  5.343675417661098|    1.0859188544152745|      2.3627684964200477|                  3.0|          (4,[3],[1.0])|[-122.26,37.84,50...|[-61.020837055737...|\n|  -122.27|   37.84|              52.0|     1503.0|         298.0|     690.0|     275.0|       2.6033|          162900.0|       NEAR BAY|  5.465454545454546|    1.0836363636363637|      2.5090909090909093|                  3.0|          (4,[3],[1.0])|[-122.27,37.84,52...|[-61.025828126983...|\n+---------+--------+------------------+-----------+--------------+----------+----------+-------------+------------------+---------------+-------------------+----------------------+------------------------+---------------------+-----------------------+--------------------+--------------------+\nonly showing top 20 rows\n\n"
     ]
    }
   ],
   "source": [
    "transformedHousing.show()"
   ]
  },
  {
   "cell_type": "code",
   "execution_count": 0,
   "metadata": {
    "application/vnd.databricks.v1+cell": {
     "cellMetadata": {
      "byteLimit": 2048000,
      "rowLimit": 10000
     },
     "inputWidgets": {},
     "nuid": "902e996d-79f8-4cf0-aecb-d503a60515f0",
     "showTitle": false,
     "title": ""
    }
   },
   "outputs": [],
   "source": [
    "transformedHousing=transformedHousing.select(['scaled_features', 'median_house_value'])"
   ]
  },
  {
   "cell_type": "code",
   "execution_count": 0,
   "metadata": {
    "application/vnd.databricks.v1+cell": {
     "cellMetadata": {
      "byteLimit": 2048000,
      "rowLimit": 10000
     },
     "inputWidgets": {},
     "nuid": "b06de0a0-e047-407f-87a7-f5fc829d00bc",
     "showTitle": false,
     "title": ""
    }
   },
   "outputs": [
    {
     "output_type": "stream",
     "name": "stdout",
     "output_type": "stream",
     "text": [
      "root\n |-- scaled_features: vector (nullable = true)\n |-- median_house_value: double (nullable = true)\n\n"
     ]
    }
   ],
   "source": [
    "transformedHousing.printSchema()"
   ]
  },
  {
   "cell_type": "code",
   "execution_count": 0,
   "metadata": {
    "application/vnd.databricks.v1+cell": {
     "cellMetadata": {
      "byteLimit": 2048000,
      "rowLimit": 10000
     },
     "inputWidgets": {},
     "nuid": "abd56f20-b60c-4905-9b80-b3f3d42d954b",
     "showTitle": false,
     "title": ""
    }
   },
   "outputs": [],
   "source": [
    "train, test = transformedHousing.randomSplit([0.7, 0.3])"
   ]
  },
  {
   "cell_type": "code",
   "execution_count": 0,
   "metadata": {
    "application/vnd.databricks.v1+cell": {
     "cellMetadata": {
      "byteLimit": 2048000,
      "rowLimit": 10000
     },
     "inputWidgets": {},
     "nuid": "b40c0d76-c3f3-4bfc-a055-299043aca908",
     "showTitle": false,
     "title": ""
    }
   },
   "outputs": [
    {
     "output_type": "stream",
     "name": "stdout",
     "output_type": "stream",
     "text": [
      "Out[32]: 14313"
     ]
    }
   ],
   "source": [
    "train.count()"
   ]
  },
  {
   "cell_type": "code",
   "execution_count": 0,
   "metadata": {
    "application/vnd.databricks.v1+cell": {
     "cellMetadata": {
      "byteLimit": 2048000,
      "rowLimit": 10000
     },
     "inputWidgets": {},
     "nuid": "797e98c4-6ba8-40ab-bb7c-65f6dac65a4e",
     "showTitle": false,
     "title": ""
    }
   },
   "outputs": [
    {
     "output_type": "stream",
     "name": "stdout",
     "output_type": "stream",
     "text": [
      "Out[33]: 6120"
     ]
    }
   ],
   "source": [
    "test.count()"
   ]
  },
  {
   "cell_type": "code",
   "execution_count": 0,
   "metadata": {
    "application/vnd.databricks.v1+cell": {
     "cellMetadata": {
      "byteLimit": 2048000,
      "rowLimit": 10000
     },
     "inputWidgets": {},
     "nuid": "3886c826-8d11-48f4-aafb-3bf6c631e8fe",
     "showTitle": false,
     "title": ""
    }
   },
   "outputs": [],
   "source": [
    "train.write.option(\"header\", \"true\").option(\"schema\",\"true\").mode('overwrite').parquet('/mnt/housing/processed/traindata/')"
   ]
  },
  {
   "cell_type": "code",
   "execution_count": 0,
   "metadata": {
    "application/vnd.databricks.v1+cell": {
     "cellMetadata": {
      "byteLimit": 2048000,
      "rowLimit": 10000
     },
     "inputWidgets": {},
     "nuid": "3b0ebd0f-4b78-495e-93a0-96cc51d0204f",
     "showTitle": false,
     "title": ""
    }
   },
   "outputs": [
    {
     "output_type": "stream",
     "name": "stdout",
     "output_type": "stream",
     "text": [
      "Out[35]: True"
     ]
    }
   ],
   "source": [
    "datalocation='/mnt/housing/processed/traindata/'\n",
    "files=dbutils.fs.ls(datalocation)\n",
    "csv_file=[x.path for x in files if x.path.endswith(\".parquet\")][0]\n",
    "dbutils.fs.mv(csv_file,datalocation.rstrip('/')+\".parquet\")\n",
    "dbutils.fs.rm(datalocation,recurse=True)"
   ]
  },
  {
   "cell_type": "code",
   "execution_count": 0,
   "metadata": {
    "application/vnd.databricks.v1+cell": {
     "cellMetadata": {
      "byteLimit": 2048000,
      "rowLimit": 10000
     },
     "inputWidgets": {},
     "nuid": "06a7bd5b-81bd-4a14-a00a-6f7328900c65",
     "showTitle": false,
     "title": ""
    }
   },
   "outputs": [],
   "source": [
    "test.write.option(\"header\", \"true\").option(\"schema\",\"true\").mode('overwrite').parquet('/mnt/housing/processed/testdata/')"
   ]
  },
  {
   "cell_type": "code",
   "execution_count": 0,
   "metadata": {
    "application/vnd.databricks.v1+cell": {
     "cellMetadata": {
      "byteLimit": 2048000,
      "rowLimit": 10000
     },
     "inputWidgets": {},
     "nuid": "24bc7838-fc3a-46ea-b7b2-8a368cbca87e",
     "showTitle": false,
     "title": ""
    }
   },
   "outputs": [
    {
     "output_type": "stream",
     "name": "stdout",
     "output_type": "stream",
     "text": [
      "Out[37]: True"
     ]
    }
   ],
   "source": [
    "datalocation='/mnt/housing/processed/testdata/'\n",
    "files=dbutils.fs.ls(datalocation)\n",
    "csv_file=[x.path for x in files if x.path.endswith(\".parquet\")][0]\n",
    "dbutils.fs.mv(csv_file,datalocation.rstrip('/')+\".parquet\")\n",
    "dbutils.fs.rm(datalocation,recurse=True)"
   ]
  },
  {
   "cell_type": "markdown",
   "metadata": {
    "application/vnd.databricks.v1+cell": {
     "cellMetadata": {},
     "inputWidgets": {},
     "nuid": "a2a24d08-dc60-4a6b-b3a6-098f2047570c",
     "showTitle": false,
     "title": ""
    }
   },
   "source": [
    "Linear Regression"
   ]
  },
  {
   "cell_type": "code",
   "execution_count": 0,
   "metadata": {
    "application/vnd.databricks.v1+cell": {
     "cellMetadata": {
      "byteLimit": 2048000,
      "rowLimit": 10000
     },
     "inputWidgets": {},
     "nuid": "4e50759a-83b4-49f7-bc6b-96452ac4c7ac",
     "showTitle": false,
     "title": ""
    }
   },
   "outputs": [],
   "source": [
    "from pyspark.ml.regression import LinearRegression\n",
    "lr = LinearRegression(featuresCol='scaled_features',labelCol='median_house_value')"
   ]
  },
  {
   "cell_type": "code",
   "execution_count": 0,
   "metadata": {
    "application/vnd.databricks.v1+cell": {
     "cellMetadata": {
      "byteLimit": 2048000,
      "rowLimit": 10000
     },
     "inputWidgets": {},
     "nuid": "24961b6d-bf5a-433e-8e6d-0933322a7b6f",
     "showTitle": false,
     "title": ""
    }
   },
   "outputs": [],
   "source": [
    "lrModel = lr.fit(train)\n",
    "lrpredictions=lrModel.transform(test).select(\"prediction\", \"median_house_value\").rdd.map(lambda x: (float(x[0]), float(x[1])))"
   ]
  },
  {
   "cell_type": "code",
   "execution_count": 0,
   "metadata": {
    "application/vnd.databricks.v1+cell": {
     "cellMetadata": {
      "byteLimit": 2048000,
      "rowLimit": 10000
     },
     "inputWidgets": {},
     "nuid": "0f0100d7-049e-428b-ad0d-f60761f6499d",
     "showTitle": false,
     "title": ""
    }
   },
   "outputs": [
    {
     "output_type": "stream",
     "name": "stderr",
     "output_type": "stream",
     "text": [
      "/databricks/spark/python/pyspark/sql/context.py:165: FutureWarning: Deprecated in 3.0.0. Use SparkSession.builder.getOrCreate() instead.\n  warnings.warn(\n"
     ]
    },
    {
     "output_type": "stream",
     "name": "stdout",
     "output_type": "stream",
     "text": [
      "MSE: 4920979212.52486\nRMSE: 70149.69146421715\nR-squared: 0.6326324105670907\nMAE: 50290.14824273634\nExplained variance: 8689765512.974714\n"
     ]
    }
   ],
   "source": [
    "from pyspark.mllib.evaluation import RegressionMetrics\n",
    "lr_metrics = RegressionMetrics(lrpredictions)\n",
    "print(\"MSE: \" + str(lr_metrics.meanSquaredError))\n",
    "print(\"RMSE: \" + str(lr_metrics.rootMeanSquaredError))\n",
    "print(\"R-squared: \" + str(lr_metrics.r2))\n",
    "print(\"MAE: \" + str(lr_metrics.meanAbsoluteError))\n",
    "print(\"Explained variance: \" + str(lr_metrics.explainedVariance))"
   ]
  },
  {
   "cell_type": "markdown",
   "metadata": {
    "application/vnd.databricks.v1+cell": {
     "cellMetadata": {},
     "inputWidgets": {},
     "nuid": "5fb8c87f-2f2a-4f5e-9f25-59666582063a",
     "showTitle": false,
     "title": ""
    }
   },
   "source": [
    "DECISION TREE REGRESSION"
   ]
  },
  {
   "cell_type": "code",
   "execution_count": 0,
   "metadata": {
    "application/vnd.databricks.v1+cell": {
     "cellMetadata": {
      "byteLimit": 2048000,
      "rowLimit": 10000
     },
     "inputWidgets": {},
     "nuid": "b126bd3e-6fc2-4e51-a4be-91e9929384c1",
     "showTitle": false,
     "title": ""
    }
   },
   "outputs": [],
   "source": [
    "from pyspark.ml.regression import DecisionTreeRegressor\n",
    "dtr = DecisionTreeRegressor(featuresCol='scaled_features',labelCol='median_house_value')"
   ]
  },
  {
   "cell_type": "code",
   "execution_count": 0,
   "metadata": {
    "application/vnd.databricks.v1+cell": {
     "cellMetadata": {
      "byteLimit": 2048000,
      "rowLimit": 10000
     },
     "inputWidgets": {},
     "nuid": "d52e0060-0d4a-4eeb-b166-4ce5ffc40397",
     "showTitle": false,
     "title": ""
    }
   },
   "outputs": [],
   "source": [
    "dtrModel = dtr.fit(train)\n",
    "dtrpredictions = dtrModel.transform(test).select(\"prediction\", \"median_house_value\").rdd.map(lambda x: (float(x[0]), float(x[1])))"
   ]
  },
  {
   "cell_type": "code",
   "execution_count": 0,
   "metadata": {
    "application/vnd.databricks.v1+cell": {
     "cellMetadata": {
      "byteLimit": 2048000,
      "rowLimit": 10000
     },
     "inputWidgets": {},
     "nuid": "23ae74bc-0a97-4e21-9ab9-b4f574d85b43",
     "showTitle": false,
     "title": ""
    }
   },
   "outputs": [
    {
     "output_type": "stream",
     "name": "stderr",
     "output_type": "stream",
     "text": [
      "/databricks/spark/python/pyspark/sql/context.py:165: FutureWarning: Deprecated in 3.0.0. Use SparkSession.builder.getOrCreate() instead.\n  warnings.warn(\n"
     ]
    },
    {
     "output_type": "stream",
     "name": "stdout",
     "output_type": "stream",
     "text": [
      "MSE: 4643138468.061013\nRMSE: 68140.57871827192\nR-squared: 0.6533741532430486\nMAE: 48584.86841449843\nExplained variance: 9047330595.107292\n"
     ]
    }
   ],
   "source": [
    "from pyspark.mllib.evaluation import RegressionMetrics\n",
    "dtr_metrics = RegressionMetrics(dtrpredictions)\n",
    "print(\"MSE: \" + str(dtr_metrics.meanSquaredError))\n",
    "print(\"RMSE: \" + str(dtr_metrics.rootMeanSquaredError))\n",
    "print(\"R-squared: \" + str(dtr_metrics.r2))\n",
    "print(\"MAE: \" + str(dtr_metrics.meanAbsoluteError))\n",
    "print(\"Explained variance: \" + str(dtr_metrics.explainedVariance))"
   ]
  },
  {
   "cell_type": "markdown",
   "metadata": {
    "application/vnd.databricks.v1+cell": {
     "cellMetadata": {},
     "inputWidgets": {},
     "nuid": "64186bff-e44b-44de-9131-c5f6483725e5",
     "showTitle": false,
     "title": ""
    }
   },
   "source": [
    "RANDOM FOREST REGRESSION"
   ]
  },
  {
   "cell_type": "code",
   "execution_count": 0,
   "metadata": {
    "application/vnd.databricks.v1+cell": {
     "cellMetadata": {
      "byteLimit": 2048000,
      "rowLimit": 10000
     },
     "inputWidgets": {},
     "nuid": "50879463-9d79-438d-9474-5a40772f21eb",
     "showTitle": false,
     "title": ""
    }
   },
   "outputs": [],
   "source": [
    "from pyspark.ml.regression import RandomForestRegressor\n",
    "rfr = RandomForestRegressor(featuresCol='scaled_features',labelCol='median_house_value')"
   ]
  },
  {
   "cell_type": "code",
   "execution_count": 0,
   "metadata": {
    "application/vnd.databricks.v1+cell": {
     "cellMetadata": {
      "byteLimit": 2048000,
      "rowLimit": 10000
     },
     "inputWidgets": {},
     "nuid": "be31c761-1d2e-40e5-b183-5fe11ce85479",
     "showTitle": false,
     "title": ""
    }
   },
   "outputs": [],
   "source": [
    "rfrModel = rfr.fit(train)\n",
    "rfrpredictions = rfrModel.transform(test).select(\"prediction\", \"median_house_value\").rdd.map(lambda x: (float(x[0]), float(x[1])))"
   ]
  },
  {
   "cell_type": "code",
   "execution_count": 0,
   "metadata": {
    "application/vnd.databricks.v1+cell": {
     "cellMetadata": {
      "byteLimit": 2048000,
      "rowLimit": 10000
     },
     "inputWidgets": {},
     "nuid": "f323e8f3-3bbf-42c3-a00f-c40c41334239",
     "showTitle": false,
     "title": ""
    }
   },
   "outputs": [
    {
     "output_type": "stream",
     "name": "stdout",
     "output_type": "stream",
     "text": [
      "MSE: 4643138468.061013\nRMSE: 68140.57871827192\nR-squared: 0.6533741532430486\nMAE: 48584.86841449843\nExplained variance: 9047330595.107292\n"
     ]
    }
   ],
   "source": [
    "from pyspark.mllib.evaluation import RegressionMetrics\n",
    "rf_metrics = RegressionMetrics(dtrpredictions)\n",
    "print(\"MSE: \" + str(rf_metrics.meanSquaredError))\n",
    "print(\"RMSE: \" + str(rf_metrics.rootMeanSquaredError))\n",
    "print(\"R-squared: \" + str(rf_metrics.r2))\n",
    "print(\"MAE: \" + str(rf_metrics.meanAbsoluteError))\n",
    "print(\"Explained variance: \" + str(rf_metrics.explainedVariance))"
   ]
  },
  {
   "cell_type": "markdown",
   "metadata": {
    "application/vnd.databricks.v1+cell": {
     "cellMetadata": {},
     "inputWidgets": {},
     "nuid": "bd03ab1f-2a5a-45b3-a53b-68262d40852d",
     "showTitle": false,
     "title": ""
    }
   },
   "source": [
    "GBT REGRESSION"
   ]
  },
  {
   "cell_type": "code",
   "execution_count": 0,
   "metadata": {
    "application/vnd.databricks.v1+cell": {
     "cellMetadata": {
      "byteLimit": 2048000,
      "rowLimit": 10000
     },
     "inputWidgets": {},
     "nuid": "dc17009b-03fb-4d9c-aefc-e0e0c9f0f558",
     "showTitle": false,
     "title": ""
    }
   },
   "outputs": [],
   "source": [
    "from pyspark.ml.regression import GBTRegressor\n",
    "gbtr = GBTRegressor(featuresCol='scaled_features',labelCol='median_house_value')"
   ]
  },
  {
   "cell_type": "code",
   "execution_count": 0,
   "metadata": {
    "application/vnd.databricks.v1+cell": {
     "cellMetadata": {
      "byteLimit": 2048000,
      "rowLimit": 10000
     },
     "inputWidgets": {},
     "nuid": "6a4ff35c-b5fc-4695-88e7-aa9361dc929b",
     "showTitle": false,
     "title": ""
    }
   },
   "outputs": [],
   "source": [
    "gbtrModel = gbtr.fit(train)\n",
    "gbtr_predictions = gbtrModel.transform(test).select(\"prediction\", \"median_house_value\").rdd.map(lambda x: (float(x[0]), float(x[1])))"
   ]
  },
  {
   "cell_type": "code",
   "execution_count": 0,
   "metadata": {
    "application/vnd.databricks.v1+cell": {
     "cellMetadata": {
      "byteLimit": 2048000,
      "rowLimit": 10000
     },
     "inputWidgets": {},
     "nuid": "bdbb3211-0939-43fa-a863-47def9af5987",
     "showTitle": false,
     "title": ""
    }
   },
   "outputs": [
    {
     "output_type": "stream",
     "name": "stdout",
     "output_type": "stream",
     "text": [
      "MSE: 4643138468.061013\nRMSE: 68140.57871827192\nR-squared: 0.6533741532430486\nMAE: 48584.86841449843\nExplained variance: 9047330595.107292\n"
     ]
    }
   ],
   "source": [
    "from pyspark.mllib.evaluation import RegressionMetrics\n",
    "metrics_gbt = RegressionMetrics(dtrpredictions)\n",
    "print(\"MSE: \" + str(metrics_gbt.meanSquaredError))\n",
    "print(\"RMSE: \" + str(metrics_gbt.rootMeanSquaredError))\n",
    "print(\"R-squared: \" + str(metrics_gbt.r2))\n",
    "print(\"MAE: \" + str(metrics_gbt.meanAbsoluteError))\n",
    "print(\"Explained variance: \" + str(metrics_gbt.explainedVariance))"
   ]
  },
  {
   "cell_type": "markdown",
   "metadata": {
    "application/vnd.databricks.v1+cell": {
     "cellMetadata": {},
     "inputWidgets": {},
     "nuid": "d1849d85-1b27-4292-940d-08e13725721e",
     "showTitle": false,
     "title": ""
    }
   },
   "source": [
    "CROSS VALIDATION AND HYPER PARAMETER TUNING"
   ]
  },
  {
   "cell_type": "code",
   "execution_count": 0,
   "metadata": {
    "application/vnd.databricks.v1+cell": {
     "cellMetadata": {
      "byteLimit": 2048000,
      "rowLimit": 10000
     },
     "inputWidgets": {},
     "nuid": "7ab640f0-2f18-473a-b3b4-fe30c64b77b7",
     "showTitle": false,
     "title": ""
    }
   },
   "outputs": [],
   "source": [
    "from pyspark.ml.evaluation import RegressionEvaluator\n",
    "from pyspark.ml.tuning import CrossValidator, ParamGridBuilder\n",
    "\n",
    "params = ParamGridBuilder().addGrid(rfr.maxDepth, [5,10,15]).build()\n",
    "\n",
    "evaluator = RegressionEvaluator()\\\n",
    " .setMetricName(\"rmse\")\\\n",
    " .setPredictionCol(\"prediction\")\\\n",
    " .setLabelCol(\"median_house_value\")\n",
    "\n",
    "cv = CrossValidator()\\\n",
    " .setEstimator(rfr)\\\n",
    " .setEvaluator(evaluator)\\\n",
    " .setEstimatorParamMaps(params)\\\n",
    " .setNumFolds(10) \n",
    "model = cv.fit(train)"
   ]
  },
  {
   "cell_type": "code",
   "execution_count": 0,
   "metadata": {
    "application/vnd.databricks.v1+cell": {
     "cellMetadata": {
      "byteLimit": 2048000,
      "rowLimit": 10000
     },
     "inputWidgets": {},
     "nuid": "8cc16a22-22e6-4796-bc35-09707ca6f2bc",
     "showTitle": false,
     "title": ""
    }
   },
   "outputs": [],
   "source": [
    "from pyspark.mllib.evaluation import RegressionMetrics\n",
    "out = model.transform(test)\\\n",
    " .select(\"prediction\", \"median_house_value\").rdd.map(lambda x: (float(x[0]), float(x[1])))"
   ]
  },
  {
   "cell_type": "code",
   "execution_count": 0,
   "metadata": {
    "application/vnd.databricks.v1+cell": {
     "cellMetadata": {
      "byteLimit": 2048000,
      "rowLimit": 10000
     },
     "inputWidgets": {},
     "nuid": "d7d9dd0e-261a-4673-add2-483f3614786c",
     "showTitle": false,
     "title": ""
    }
   },
   "outputs": [
    {
     "output_type": "stream",
     "name": "stderr",
     "output_type": "stream",
     "text": [
      "/databricks/spark/python/pyspark/sql/context.py:165: FutureWarning: Deprecated in 3.0.0. Use SparkSession.builder.getOrCreate() instead.\n  warnings.warn(\n"
     ]
    },
    {
     "output_type": "stream",
     "name": "stdout",
     "output_type": "stream",
     "text": [
      "MSE: 2713738626.4935775\nRMSE: 52093.556477683276\nR-squared: 0.7974103172335066\nMAE: 35100.78155408402\nExplained variance: 9833223673.785948\n"
     ]
    }
   ],
   "source": [
    "cv_metrics = RegressionMetrics(out)\n",
    "print(\"MSE: \" + str(cv_metrics.meanSquaredError))\n",
    "print(\"RMSE: \" + str(cv_metrics.rootMeanSquaredError))\n",
    "print(\"R-squared: \" + str(cv_metrics.r2))\n",
    "print(\"MAE: \" + str(cv_metrics.meanAbsoluteError))\n",
    "print(\"Explained variance: \" + str(cv_metrics.explainedVariance))"
   ]
  },
  {
   "cell_type": "markdown",
   "metadata": {
    "application/vnd.databricks.v1+cell": {
     "cellMetadata": {},
     "inputWidgets": {},
     "nuid": "65b0fef1-4f8b-4e84-b823-56b4a388efc6",
     "showTitle": false,
     "title": ""
    }
   },
   "source": [
    "BEST MODEL"
   ]
  },
  {
   "cell_type": "code",
   "execution_count": 0,
   "metadata": {
    "application/vnd.databricks.v1+cell": {
     "cellMetadata": {
      "byteLimit": 2048000,
      "rowLimit": 10000
     },
     "inputWidgets": {},
     "nuid": "89499c6e-a2ba-482a-9546-b336259ab263",
     "showTitle": false,
     "title": ""
    }
   },
   "outputs": [
    {
     "output_type": "stream",
     "name": "stdout",
     "output_type": "stream",
     "text": [
      "RandomForestRegressionModel: uid=RandomForestRegressor_53a4dd1a0a27, numTrees=20, numFeatures=15\n"
     ]
    }
   ],
   "source": [
    "bestModel = model.bestModel\n",
    "print(bestModel)"
   ]
  },
  {
   "cell_type": "code",
   "execution_count": 0,
   "metadata": {
    "application/vnd.databricks.v1+cell": {
     "cellMetadata": {
      "byteLimit": 2048000,
      "rowLimit": 10000
     },
     "inputWidgets": {},
     "nuid": "6e796f1c-9017-4705-970a-a7f720d2c087",
     "showTitle": false,
     "title": ""
    }
   },
   "outputs": [],
   "source": [
    "metrics=[lr_metrics,dtr_metrics,rf_metrics,metrics_gbt,cv_metrics]"
   ]
  },
  {
   "cell_type": "code",
   "execution_count": 0,
   "metadata": {
    "application/vnd.databricks.v1+cell": {
     "cellMetadata": {
      "byteLimit": 2048000,
      "rowLimit": 10000
     },
     "inputWidgets": {},
     "nuid": "85ba4d2e-17c7-4934-80c8-f8a0d046ab42",
     "showTitle": false,
     "title": ""
    }
   },
   "outputs": [],
   "source": [
    "from pyspark.sql.types import StructType,StructField,DoubleType,StringType"
   ]
  },
  {
   "cell_type": "code",
   "execution_count": 0,
   "metadata": {
    "application/vnd.databricks.v1+cell": {
     "cellMetadata": {
      "byteLimit": 2048000,
      "rowLimit": 10000
     },
     "inputWidgets": {},
     "nuid": "848f92a7-f7e9-4db7-a89c-209575552640",
     "showTitle": false,
     "title": ""
    }
   },
   "outputs": [],
   "source": [
    "metrics_schema = StructType([ \\\n",
    "    StructField(\"Model\",StringType(),True), \\\n",
    "    StructField(\"MSE\",DoubleType(),True), \\\n",
    "    StructField(\"RMSE\",DoubleType(),True), \\\n",
    "    StructField(\"R-squared\",DoubleType(),True), \\\n",
    "    StructField(\"MAE\", DoubleType(), True), \\\n",
    "    StructField(\"Explained_Variance\", DoubleType(), True), \\\n",
    "  ])"
   ]
  },
  {
   "cell_type": "code",
   "execution_count": 0,
   "metadata": {
    "application/vnd.databricks.v1+cell": {
     "cellMetadata": {
      "byteLimit": 2048000,
      "rowLimit": 10000
     },
     "inputWidgets": {},
     "nuid": "6c9ef16e-0815-4aff-9bb7-3f217102b803",
     "showTitle": false,
     "title": ""
    }
   },
   "outputs": [],
   "source": [
    "model_names=['linear regession','decision tree regresstion','random forest regression','gbt regression', 'cv random forest regression']"
   ]
  },
  {
   "cell_type": "code",
   "execution_count": 0,
   "metadata": {
    "application/vnd.databricks.v1+cell": {
     "cellMetadata": {
      "byteLimit": 2048000,
      "rowLimit": 10000
     },
     "inputWidgets": {},
     "nuid": "9cbf6d6e-fabb-49e1-a6f6-0facee22b5bc",
     "showTitle": false,
     "title": ""
    }
   },
   "outputs": [
    {
     "output_type": "stream",
     "name": "stdout",
     "output_type": "stream",
     "text": [
      "[['linear regession', 4920979212.52486, 70149.69146421715, 0.6326324105670907, 50290.14824273634, 8689765512.974714], ['decision tree regresstion', 4643138468.061013, 68140.57871827192, 0.6533741532430486, 48584.86841449843, 9047330595.107292], ['random forest regression', 4643138468.061013, 68140.57871827192, 0.6533741532430486, 48584.86841449843, 9047330595.107292], ['gbt regression', 4643138468.061013, 68140.57871827192, 0.6533741532430486, 48584.86841449843, 9047330595.107292], ['cv random forest regression', 2713738626.4935775, 52093.556477683276, 0.7974103172335066, 35100.78155408402, 9833223673.785948]]\n"
     ]
    }
   ],
   "source": [
    "metrics_data=[]\n",
    "li=[]\n",
    "j=0\n",
    "for i in metrics:\n",
    "    li.append(model_names[j])\n",
    "    j=j+1\n",
    "    li.append(i.meanSquaredError)\n",
    "    li.append(i.rootMeanSquaredError)\n",
    "    li.append(i.r2)\n",
    "    li.append(i.meanAbsoluteError)\n",
    "    li.append(i.explainedVariance)\n",
    "    metrics_data.append(li)\n",
    "    li=[]\n",
    "print(metrics_data)"
   ]
  },
  {
   "cell_type": "code",
   "execution_count": 0,
   "metadata": {
    "application/vnd.databricks.v1+cell": {
     "cellMetadata": {
      "byteLimit": 2048000,
      "rowLimit": 10000
     },
     "inputWidgets": {},
     "nuid": "cf38340e-cd6a-4976-9ae2-c594ba3ae80d",
     "showTitle": false,
     "title": ""
    }
   },
   "outputs": [],
   "source": [
    "metrics_df=spark.createDataFrame(data=metrics_data,schema=metrics_schema)"
   ]
  },
  {
   "cell_type": "code",
   "execution_count": 0,
   "metadata": {
    "application/vnd.databricks.v1+cell": {
     "cellMetadata": {
      "byteLimit": 2048000,
      "rowLimit": 10000
     },
     "inputWidgets": {},
     "nuid": "d0525ca8-c751-4863-9877-7c4410890355",
     "showTitle": false,
     "title": ""
    }
   },
   "outputs": [
    {
     "output_type": "stream",
     "name": "stdout",
     "output_type": "stream",
     "text": [
      "+---------------------------+--------------------+------------------+------------------+-----------------+-------------------+\n|                      Model|                 MSE|              RMSE|         R-squared|              MAE| Explained_Variance|\n+---------------------------+--------------------+------------------+------------------+-----------------+-------------------+\n|           linear regession|  4.92097921252486E9| 70149.69146421715|0.6326324105670907|50290.14824273634|8.689765512974714E9|\n|  decision tree regresstion| 4.643138468061013E9| 68140.57871827192|0.6533741532430486|48584.86841449843|9.047330595107292E9|\n|   random forest regression| 4.643138468061013E9| 68140.57871827192|0.6533741532430486|48584.86841449843|9.047330595107292E9|\n|             gbt regression| 4.643138468061013E9| 68140.57871827192|0.6533741532430486|48584.86841449843|9.047330595107292E9|\n|cv random forest regression|2.7137386264935775E9|52093.556477683276|0.7974103172335066|35100.78155408402|9.833223673785948E9|\n+---------------------------+--------------------+------------------+------------------+-----------------+-------------------+\n\n"
     ]
    }
   ],
   "source": [
    "metrics_df.show(truncate=30)"
   ]
  },
  {
   "cell_type": "code",
   "execution_count": 0,
   "metadata": {
    "application/vnd.databricks.v1+cell": {
     "cellMetadata": {
      "byteLimit": 2048000,
      "rowLimit": 10000
     },
     "inputWidgets": {},
     "nuid": "c9068401-ea6b-47f5-805d-24444b89c952",
     "showTitle": false,
     "title": ""
    }
   },
   "outputs": [],
   "source": [
    "metrics_df.repartition(1).write.option(\"header\", \"true\").option(\"schema\",\"true\").mode('overwrite').parquet('/mnt/housing/output/metrics/')"
   ]
  },
  {
   "cell_type": "code",
   "execution_count": 0,
   "metadata": {
    "application/vnd.databricks.v1+cell": {
     "cellMetadata": {
      "byteLimit": 2048000,
      "rowLimit": 10000
     },
     "inputWidgets": {},
     "nuid": "65368a0f-1902-49ae-9e5c-d4ed1c061a30",
     "showTitle": false,
     "title": ""
    }
   },
   "outputs": [
    {
     "output_type": "stream",
     "name": "stdout",
     "output_type": "stream",
     "text": [
      "Out[62]: True"
     ]
    }
   ],
   "source": [
    "datalocation='/mnt/housing/output/metrics/'\n",
    "files=dbutils.fs.ls(datalocation)\n",
    "csv_file=[x.path for x in files if x.path.endswith(\".parquet\")][0]\n",
    "dbutils.fs.mv(csv_file,datalocation.rstrip('/')+\".parquet\")\n",
    "dbutils.fs.rm(datalocation,recurse=True)"
   ]
  }
 ],
 "metadata": {
  "application/vnd.databricks.v1+notebook": {
   "dashboards": [],
   "language": "python",
   "notebookMetadata": {
    "pythonIndentUnit": 4
   },
   "notebookName": "training_inference",
   "widgets": {}
  }
 },
 "nbformat": 4,
 "nbformat_minor": 0
}
